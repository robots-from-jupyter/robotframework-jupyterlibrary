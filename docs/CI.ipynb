{
 "cells": [
  {
   "cell_type": "markdown",
   "metadata": {},
   "source": [
    "# CI\n",
    "At first, you'll want to write your tests locally, and test them against as many local browsers as possible. However, to really test out your features, you'll want to:\n",
    "\n",
    "- run them against as many real browsers on other operating systems as possible\n",
    "- have easy access to human- and machine-readable test results and build assets\n",
    "- integration with development tools like GitHub\n",
    "\n",
    "Enter Continuous Integration (CI). "
   ]
  },
  {
   "cell_type": "markdown",
   "metadata": {},
   "source": [
    "## Cloud: Multi-Provider\n",
    "Historically, Jupyter projects have used a mix of free-as-in-beer-for-open source hosted services:\n",
    "- [Appveyor](https://www.appveyor.com) for Windows\n",
    "- [Circle-CI](https://circleci.com) for Linux\n",
    "- [TravisCI](https://travis-ci.org) for Linux and MacOS\n",
    "\n",
    "Each brings their own syntax, features, and constraints to building and maintaining robust CI workflows.\n",
    "\n",
    "> `JupyterLibrary` started on Travis-CI, but as soon as we wanted to support more platforms and browsers..."
   ]
  },
  {
   "cell_type": "markdown",
   "metadata": {},
   "source": [
    "## Cloud: Azure Pipelines\n",
    "At the risk of putting all your eggs in one (proprietary) basket, [Azure Pipelines](https://azure.microsoft.com/en-us/services/devops/pipelines/) provides a single-file approach to automating all of your tests against reasonably modern versions of browsers. \n",
    "\n",
    "> `JupyterLibrary` is itself built on Azure, and looking at the [pipeline][] and various [jobs and steps][] used can provide the best patterns we have found.\n",
    "\n",
    "[pipeline]: https://github.com/bollwyvl/robotframework-jupyterlibrary/blob/master/azure-pipelines.yml\n",
    "[jobs and steps]: https://github.com/bollwyvl/robotframework-jupyterlibrary/tree/master/ci"
   ]
  },
  {
   "cell_type": "markdown",
   "metadata": {},
   "source": [
    "## On-Premises: Jenkins\n",
    "If you are working on in-house projects, and/or have the ability to support it, [Jenkins](https://jenkins.io) is the gold standard for self-hosted continuous integration. It has almost limitless configurability, and commercial support is available."
   ]
  },
  {
   "cell_type": "markdown",
   "metadata": {},
   "source": [
    "## Approach: It's Just Scripts\n",
    "No matter how shiny or magical your continuous integration tools appear the long-term well-being of your repo depends on techniques that are: \n",
    "- simple\n",
    "- cross-platform\n",
    "- frequently run outside of your CI\n",
    "\n",
    "Since this is Jupyter, this boils down to putting as much as possible into platform-independent python (and, when neccessary, nodejs) code. \n",
    "\n",
    "> `JupyterLibrary` uses a small collection of [scripts][], not shipped as part of the distribution, which handle the pipeline. In addition, this library uses [anaconda-project][] to manage multiple environment versions, and to combine multiple script invocations with different parameters into small, easy-to-remember (and complete) commands. Unfortunately, some of these approaches don't _quite_ work in Azure Pipelines, so some duplication of commands and dependencies are present.\n",
    "\n",
    "[scripts]: https://github.com/bollwyvl/robotframework-jupyterlibrary/tree/master/scripts\n",
    "[anaconda-project]: https://github.com/bollwyvl/robotframework-jupyterlibrary/blob/master/anaconda-project.yml"
   ]
  }
 ],
 "metadata": {
  "kernelspec": {
   "display_name": "Python 3",
   "language": "python",
   "name": "python3"
  },
  "language_info": {
   "codemirror_mode": {
    "name": "ipython",
    "version": 3
   },
   "file_extension": ".py",
   "mimetype": "text/x-python",
   "name": "python",
   "nbconvert_exporter": "python",
   "pygments_lexer": "ipython3",
   "version": "3.7.1"
  }
 },
 "nbformat": 4,
 "nbformat_minor": 2
}
