{
 "cells": [
  {
   "cell_type": "markdown",
   "metadata": {},
   "source": [
    "# History"
   ]
  },
  {
   "cell_type": "markdown",
   "metadata": {},
   "source": [
    "## 0.2.0\n",
    "- Require SeleniumLibrary 3.3.0 and remove backport of `Press Keys`\n",
    "- `Start New Jupyter Server` now has a default `command` of `jupyter-notebook` (instead of `jupyter`)\n",
    "- `Build Jupyter Server Arguments` no longer returns `notebook` as the first argument\n",
    "- Fix homepage URL for PyPI\n",
    "- Test on Chrome/Windows"
   ]
  },
  {
   "cell_type": "markdown",
   "metadata": {},
   "source": [
    "## 0.1.0\n",
    "- Initial Release"
   ]
  }
 ],
 "metadata": {
  "kernelspec": {
   "display_name": "Python 3",
   "language": "python",
   "name": "python3"
  },
  "language_info": {
   "codemirror_mode": {
    "name": "ipython",
    "version": 3
   },
   "file_extension": ".py",
   "mimetype": "text/x-python",
   "name": "python",
   "nbconvert_exporter": "python",
   "pygments_lexer": "ipython3",
   "version": "3.7.1"
  }
 },
 "nbformat": 4,
 "nbformat_minor": 2
}
