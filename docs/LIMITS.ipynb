{
 "cells": [
  {
   "cell_type": "markdown",
   "metadata": {},
   "source": [
    "# LIMITS"
   ]
  },
  {
   "cell_type": "markdown",
   "metadata": {},
   "source": [
    "## `NotebookApp` vs `ServerApp`\n",
    "\n",
    "Prior to JupyterLibrary `0.4.2`, `Start New Jupyter Server` relied on backwards compatibility of `jupyter_server` with `notebook`, using e.g. `--NotebookApp.token` to configure temporary credentials.\n",
    "\n",
    "With `jupyter_server>=2`, `nbclassic` and various other newer packages vying for the CLI, this doesn't _always_ pick the correct tool, so several options are available:\n",
    "\n",
    "- explicitly setting the named `app_name` parameter when launching a server\n",
    "- explicitly setting the `command` parameter will _usually_ pick the correct server\n",
    "  - e.g. `jupyter-lab` should _usually_ be `ServerApp`\n",
    "- using the new keyword `Set Default Jupyter App Name`\n",
    "- setting the `JUPYTER_LIBRARY_APP` environment variable, either from the CLI, or in CI `environment`, will influence the default behavior"
   ]
  },
  {
   "cell_type": "markdown",
   "metadata": {},
   "source": [
    "## `Press Keys` on MacOS/Chrome\n",
    "While SeleniumLibrary 3.3.0 added `Press Keys` which can target non-inputs, as of `chromedriver` version `2.45` the <kbd>⌘</kbd> key cannot be used. As this is the favored key for shortcuts, this means almost all of the client keyboard shortcuts just won't work if you are trying to test on MacOS.\n",
    "\n",
    "> **Workaround**\n",
    ">\n",
    "> _If you are trying to `Press Keys` where the <kbd>⌘</kbd> key would be used, try to find a combination of simpler key combinations and mouse clicks._"
   ]
  }
 ],
 "metadata": {
  "kernelspec": {
   "display_name": "Python 3 (ipykernel)",
   "language": "python",
   "name": "python3"
  },
  "language_info": {
   "codemirror_mode": {
    "name": "ipython",
    "version": 3
   },
   "file_extension": ".py",
   "mimetype": "text/x-python",
   "name": "python",
   "nbconvert_exporter": "python",
   "pygments_lexer": "ipython3",
   "version": "3.11.3"
  }
 },
 "nbformat": 4,
 "nbformat_minor": 4
}
