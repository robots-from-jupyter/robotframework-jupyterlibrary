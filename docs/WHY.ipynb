{
 "cells": [
  {
   "cell_type": "markdown",
   "metadata": {},
   "source": [
    "# WHY"
   ]
  },
  {
   "cell_type": "markdown",
   "metadata": {},
   "source": [
    "## ...Jupyter?\n",
    "\n",
    "Jupyter clients are some of the most powerful pieces of technology users can run in their web browsers. By developing cross-client capabilities, either as kernel-level extensions, widgets, media types, or other confections, you are helping to advance fields of inquiry you might not even know exist."
   ]
  },
  {
   "cell_type": "markdown",
   "metadata": {},
   "source": [
    "## ...Acceptance Tests?\n",
    "\n",
    "Unit tests and strongly-typed languages are superb for rapid, confident iteration on even large codebases. But users will be installing **Your Code** next to an unknown number of **Other People's Code**, and then write **Their Code**. If`^H^H` When it breaks, they might not be able to tell that it's the subtle interaction between these things. Testing **All the Code** together, _as your user will use it_, gives you greater confidence in your ability to ship."
   ]
  },
  {
   "cell_type": "markdown",
   "metadata": {},
   "source": [
    "## ...JupyterLibrary?\n",
    "\n",
    "Powered by [Robot Framework](https://robotframework.org) and [SeleniumLibrary](https://robotframework.org/SeleniumLibrary/SeleniumLibrary.html), `JupyterLibrary` allows you to:\n",
    "\n",
    "- write tests in concise, **plain language**\n",
    "  - and extend this language to meet your needs\n",
    "- test multiple Jupyter **clients**\n",
    "  - and multiple **versions** of them\n",
    "- run in multiple, **real browsers** (even at the same time)\n",
    "  - and on multiple **operating systems**\n",
    "- view rich **reports** of your test results\n",
    "  - but also compare your reports over time with **machine-readable** formats\n",
    "- generate **screenshots** to augment your documentation"
   ]
  }
 ],
 "metadata": {
  "kernelspec": {
   "display_name": "Python 3 (ipykernel)",
   "language": "python",
   "name": "python3"
  },
  "language_info": {
   "codemirror_mode": {
    "name": "ipython",
    "version": 3
   },
   "file_extension": ".py",
   "mimetype": "text/x-python",
   "name": "python",
   "nbconvert_exporter": "python",
   "pygments_lexer": "ipython3",
   "version": "3.11.0"
  }
 },
 "nbformat": 4,
 "nbformat_minor": 4
}
