{
 "cells": [
  {
   "cell_type": "markdown",
   "metadata": {},
   "source": [
    "# JupyterLibrary"
   ]
  },
  {
   "cell_type": "markdown",
   "metadata": {},
   "source": [
    "> A [Robot Framework][] library for automating (testing of) [Jupyter][] end-user applications and extensions\n",
    "\n",
    "[Robot Framework]: http://robotframework.org\n",
    "[Jupyter]: https://jupyter.org"
   ]
  },
  {
   "cell_type": "markdown",
   "metadata": {},
   "source": [
    "[Install](./INSTALL.ipynb) the `robotframework-jupyterlibrary` package. Write plain-language `.robot` files that use `JupyterLibrary` [keywords](./KEYWORDS.ipynb).\n",
    "\n",
    "```robotframework\n",
    "*** Settings ***\n",
    "Library           JupyterLibrary\n",
    "Suite Setup       Wait for New Jupyter Server to be Ready\n",
    "Test Teardown     Reset JupyterLab and Close\n",
    "Suite Teardown    Terminate All Jupyter Servers\n",
    "\n",
    "*** Test Cases ***\n",
    "A Notebook in JupyterLab\n",
    "    Open JupyterLab\n",
    "    Launch a new JupyterLab Document\n",
    "    Add and Run JupyterLab Code Cell\n",
    "    Wait Until JupyterLab Kernel Is Idle\n",
    "    Capture Page Screenshot\n",
    "```\n",
    "\n",
    "Run them with `python -m robot mytests`. Get pretty reports with embedded screenshots. Deploy your tests on [CI](./CI.ipynb). Write new Jupyter features **more confidently** and with **better documentation**!"
   ]
  },
  {
   "cell_type": "markdown",
   "metadata": {
    "nbsphinx-toctree": {
     "maxdepth": 2
    }
   },
   "source": [
    "# MORE\n",
    "- [WHY](WHY.ipynb)\n",
    "- [INSTALL](INSTALL.ipynb)\n",
    "- [KEYWORDS](KEYWORDS.ipynb)\n",
    "- [CI](CI.ipynb)\n",
    "- [LIMITS](LIMITS.ipynb)\n",
    "- [HISTORY](HISTORY.ipynb)"
   ]
  }
 ],
 "metadata": {
  "kernelspec": {
   "display_name": "Python 3",
   "language": "python",
   "name": "python3"
  },
  "language_info": {
   "codemirror_mode": {
    "name": "ipython",
    "version": 3
   },
   "file_extension": ".py",
   "mimetype": "text/x-python",
   "name": "python",
   "nbconvert_exporter": "python",
   "pygments_lexer": "ipython3",
   "version": "3.7.1"
  }
 },
 "nbformat": 4,
 "nbformat_minor": 2
}
